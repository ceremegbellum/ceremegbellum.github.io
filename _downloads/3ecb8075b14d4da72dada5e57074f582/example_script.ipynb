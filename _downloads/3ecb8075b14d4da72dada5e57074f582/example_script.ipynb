{
  "cells": [
    {
      "cell_type": "markdown",
      "metadata": {},
      "source": [
        "\n# 01. Running the code\n"
      ]
    },
    {
      "cell_type": "markdown",
      "metadata": {},
      "source": [
        "First import the necessary python modules:\n\n"
      ]
    },
    {
      "cell_type": "code",
      "execution_count": null,
      "metadata": {
        "collapsed": false
      },
      "outputs": [],
      "source": [
        "import os.path as op\nimport mne\nimport pickle\nimport numpy as np\nfrom mne.datasets import sample\n\nfrom cmb import (get_cerebellum_data,\n                 setup_full_source_space,\n                 plot_cerebellum_data)\nfrom cmb.segmentation import segment_cerebellum"
      ]
    },
    {
      "cell_type": "markdown",
      "metadata": {},
      "source": [
        "Then set the paths to your data:\n\n"
      ]
    },
    {
      "cell_type": "code",
      "execution_count": null,
      "metadata": {
        "collapsed": false
      },
      "outputs": [],
      "source": [
        "data_path = sample.data_path()\ncmb_path = '/autofs/cluster/fusion/gbm6/Projects/cmb/cmb_data/'"
      ]
    },
    {
      "cell_type": "markdown",
      "metadata": {},
      "source": [
        "The following function will check for the presence of the necessary\ncerebellum files, and will attempt to copy them over to the given\npath if they are not present. Currently this only works if you\nhave access to the martinos network cluster storage.\n\n"
      ]
    },
    {
      "cell_type": "code",
      "execution_count": null,
      "metadata": {
        "collapsed": false
      },
      "outputs": [],
      "source": [
        "get_cerebellum_data(cmb_path)"
      ]
    },
    {
      "cell_type": "markdown",
      "metadata": {},
      "source": [
        "Setup the relevant source files:\n\n"
      ]
    },
    {
      "cell_type": "code",
      "execution_count": null,
      "metadata": {
        "collapsed": false
      },
      "outputs": [],
      "source": [
        "sample_dir = op.join(data_path, 'MEG', 'sample',)\nraw_fname = op.join(sample_dir, 'sample_audvis_raw.fif')\nsubjects_dir = op.join(data_path, 'subjects')\nsubject = 'sample'\ntrans = op.join(sample_dir, 'sample_audvis_raw-trans.fif')\nfname_cov = op.join(sample_dir, 'sample_audvis-cov.fif')\nevo_fname = op.join(sample_dir,'sample_audvis-ave.fif')"
      ]
    },
    {
      "cell_type": "markdown",
      "metadata": {},
      "source": [
        "Load cerebellar data and define settings\n\n"
      ]
    },
    {
      "cell_type": "code",
      "execution_count": null,
      "metadata": {
        "collapsed": false
      },
      "outputs": [],
      "source": [
        "cb_data = pickle.load(open(op.join(cmb_path,'data','cerebellum_geo'), 'rb'))\nspacing = 2 # Use spacing 2 to get an approximately equal grid density in cerebral and cerebellar cortices"
      ]
    },
    {
      "cell_type": "markdown",
      "metadata": {},
      "source": [
        "Get subject segmentation\n\n"
      ]
    },
    {
      "cell_type": "code",
      "execution_count": null,
      "metadata": {
        "collapsed": false
      },
      "outputs": [],
      "source": [
        "segment_cerebellum(subjects_dir, subject, cmb_path, debug_mode=False)"
      ]
    },
    {
      "cell_type": "markdown",
      "metadata": {},
      "source": [
        "Setup source space using the segmented data\n\n"
      ]
    },
    {
      "cell_type": "code",
      "execution_count": null,
      "metadata": {
        "collapsed": false
      },
      "outputs": [],
      "source": [
        "cerebellum_subsampling = 'dense'\nsrc_cort = mne.setup_source_space(subject=subject, subjects_dir=subjects_dir, spacing=spacing, add_dist=False)\nsrc_whole = setup_full_source_space(subject, subjects_dir, cmb_path, cerebellum_subsampling,\n                                    plot_cerebellum=False, spacing=spacing,debug_mode=False)"
      ]
    },
    {
      "cell_type": "markdown",
      "metadata": {},
      "source": [
        "Compute forward and inverse operators\n\n"
      ]
    },
    {
      "cell_type": "code",
      "execution_count": null,
      "metadata": {
        "collapsed": false
      },
      "outputs": [],
      "source": [
        "conductivity=(0.3, 0.006, 0.3)\nmindist = 3.0 \n# important not to use too large mindist because the cerebellar cortex and inner skull boundary are usually within 5 mm\nmodel = mne.make_bem_model(subject=subject, ico=4, conductivity=conductivity, subjects_dir=subjects_dir)\nbem = mne.make_bem_solution(model) \n# IF too many source space points are lost, the inner skull boundary is too tight and need to be expanded.\ninfo = mne.io.read_info(raw_fname)\nfwd = mne.make_forward_solution(info, trans, src_whole, bem=bem, mindist=mindist, eeg=True, n_jobs=1)\nfwd = mne.convert_forward_solution(fwd, surf_ori=True, force_fixed=True, copy=True)\nnoise_cov = mne.read_cov(fname_cov)\ninverse_operator = mne.minimum_norm.make_inverse_operator(info, fwd, noise_cov, depth=None, fixed=True)"
      ]
    },
    {
      "cell_type": "markdown",
      "metadata": {},
      "source": [
        "Example forward simulation from patch in right lobule VIIIa\n\n"
      ]
    },
    {
      "cell_type": "code",
      "execution_count": null,
      "metadata": {
        "collapsed": false
      },
      "outputs": [],
      "source": [
        "label =  cb_data['parcellation']['fine labels'][714]\nactive_verts = np.where(np.isin(cb_data['dw_data'][cerebellum_subsampling], label.vertices))[0]\nactive_verts = np.where(np.isin(fwd['src'][1]['vertno'], active_verts))[0]\nact_cerb = np.zeros((fwd['src'][1]['nuse']))\nact_cerb[active_verts] = 1"
      ]
    },
    {
      "cell_type": "markdown",
      "metadata": {},
      "source": [
        "Plot activated patch (set view to 'all' if not remote connecting)\n\n"
      ]
    },
    {
      "cell_type": "code",
      "execution_count": null,
      "metadata": {
        "collapsed": false
      },
      "outputs": [],
      "source": [
        "plot_cerebellum_data(act_cerb, fwd['src'], src_whole, cb_data, cort_data=np.zeros(fwd['src'][0]['nuse']), flatmap_cmap='bwr', mayavi_cmap='OrRd',\n                     smoothing_steps=0, view='flatmap', sub_sampling=cerebellum_subsampling, cmap_lims=[0,100])"
      ]
    },
    {
      "cell_type": "markdown",
      "metadata": {},
      "source": [
        "Plot estimated activation (set view to 'all' if not remote connecting)\n\n"
      ]
    },
    {
      "cell_type": "code",
      "execution_count": null,
      "metadata": {
        "collapsed": false
      },
      "outputs": [],
      "source": [
        "evo = mne.read_evokeds(evo_fname)[0]\nsens = np.zeros(evo.info['nchan'])\nall_chs = mne.pick_types(evo.info, meg=True, eeg=True, exclude=[])\nsens[all_chs] = np.sum(fwd['sol']['data'][:, fwd['src'][0]['nuse']+active_verts]*10**-7,axis=1)\nevo._data[all_chs] = np.repeat(sens[all_chs].reshape((len(all_chs),1)), repeats=evo._data.shape[1], axis=1)\nestimate = mne.minimum_norm.apply_inverse(evo, inverse_operator, 1/9, 'sLORETA', verbose='WARNING')\nestimate_cerb = np.linalg.norm(estimate.data[fwd['src'][0]['nuse']:estimate.shape[0], :], axis=1)\ncort_data = np.linalg.norm(estimate.data[:fwd['src'][0]['nuse'], :], axis=1)\nplot_cerebellum_data(estimate_cerb, fwd['src'], src_whole, cb_data, cort_data=cort_data, flatmap_cmap='bwr',\n                         mayavi_cmap='OrRd', smoothing_steps=0, view='flatmap', sub_sampling=cerebellum_subsampling,\n                         cmap_lims=[25,75])"
      ]
    },
    {
      "cell_type": "markdown",
      "metadata": {},
      "source": [
        "Sensitivity maps - cerebellum only\n\n"
      ]
    },
    {
      "cell_type": "code",
      "execution_count": null,
      "metadata": {
        "collapsed": false
      },
      "outputs": [],
      "source": [
        "for ch_type in ['mag', 'grad', 'eeg']:\n    ch_inds = mne.channel_indices_by_type(fwd['info'])\n    signal_norms = np.linalg.norm(fwd['sol']['data'][ch_inds[ch_type], fwd['src'][0]['nuse']:], axis=0)\n    plot_cerebellum_data(signal_norms, fwd['src'], src_whole, cb_data, cort_data=np.zeros(fwd['src'][0]['nuse']), flatmap_cmap='bwr',\n                             mayavi_cmap='OrRd', smoothing_steps=0, view='flatmap', sub_sampling=cerebellum_subsampling,\n                             cmap_lims=[25,75])"
      ]
    },
    {
      "cell_type": "markdown",
      "metadata": {},
      "source": [
        "Sensitivity maps - with cortex\n\n"
      ]
    },
    {
      "cell_type": "code",
      "execution_count": null,
      "metadata": {
        "collapsed": false
      },
      "outputs": [],
      "source": [
        "for ch_type in ['mag', 'grad', 'eeg']:\n    ch_inds = mne.channel_indices_by_type(fwd['info'])\n    signal_norms = np.linalg.norm(fwd['sol']['data'][ch_inds[ch_type], :], axis=0)\n    plot_cerebellum_data(signal_norms[fwd['src'][0]['nuse']:], fwd['src'], src_whole, cb_data, cort_data=signal_norms[:fwd['src'][0]['nuse']], flatmap_cmap='bwr',\n                             mayavi_cmap='OrRd', smoothing_steps=0, view='normal', sub_sampling=cerebellum_subsampling,\n                             cmap_lims=[25,75])"
      ]
    }
  ],
  "metadata": {
    "kernelspec": {
      "display_name": "Python 3",
      "language": "python",
      "name": "python3"
    },
    "language_info": {
      "codemirror_mode": {
        "name": "ipython",
        "version": 3
      },
      "file_extension": ".py",
      "mimetype": "text/x-python",
      "name": "python",
      "nbconvert_exporter": "python",
      "pygments_lexer": "ipython3",
      "version": "3.9.18"
    }
  },
  "nbformat": 4,
  "nbformat_minor": 0
}